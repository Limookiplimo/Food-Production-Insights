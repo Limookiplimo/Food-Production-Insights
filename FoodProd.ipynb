{
 "cells": [
  {
   "cell_type": "code",
   "execution_count": 156,
   "id": "cf38101b",
   "metadata": {},
   "outputs": [],
   "source": [
    "# Required packages and libraries\n",
    "import pyspark\n",
    "from pyspark.sql import SparkSession\n",
    "from pyspark.sql.functions import expr, col, trim, explode, lit, when\n",
    "import warnings\n",
    "\n",
    "#filter out warnings\n",
    "warnings.filterwarnings(\"ignore\")"
   ]
  },
  {
   "cell_type": "code",
   "execution_count": 124,
   "id": "0d4d6806",
   "metadata": {},
   "outputs": [],
   "source": [
    "# Initalize spark session\n",
    "spark = SparkSession.builder.getOrCreate()"
   ]
  },
  {
   "cell_type": "code",
   "execution_count": 125,
   "id": "5a6281e6",
   "metadata": {},
   "outputs": [],
   "source": [
    "# Get the dataset\n",
    "prod_data = (spark\\\n",
    "            .read\\\n",
    "            .option(\"inferSchema\", \"true\")\\\n",
    "            .option(\"header\", \"true\")\\\n",
    "            .csv(\"Production_Crops_Livestock_E_Africa.csv\"))"
   ]
  },
  {
   "cell_type": "code",
   "execution_count": 126,
   "id": "0993ba49",
   "metadata": {},
   "outputs": [],
   "source": [
    "# Configure output partitions\n",
    "spark.conf.set(\"spark.sql.shuffle.partitions\", \"5\")"
   ]
  },
  {
   "cell_type": "markdown",
   "id": "c9bebc0b",
   "metadata": {},
   "source": [
    "There are columns that do not add direct context to my analysis. I will drop them."
   ]
  },
  {
   "cell_type": "code",
   "execution_count": 128,
   "id": "a5a6e7eb",
   "metadata": {},
   "outputs": [],
   "source": [
    "# Drop columns\n",
    "\n",
    "# drop flag cols\n",
    "to_drop = [col for col in prod_data.columns if col.endswith(\"F\")]\n",
    "\n",
    "# drop unnecessary cols\n",
    "to_drop1 = ['Area Code','Area Code (M49)','Item Code','Item Code (CPC)','Element Code','Unit']\n",
    "\n",
    "# implement\n",
    "prod_data = (prod_data\\\n",
    "            .drop(*to_drop, *to_drop1))"
   ]
  },
  {
   "cell_type": "code",
   "execution_count": 129,
   "id": "e218f158",
   "metadata": {},
   "outputs": [],
   "source": [
    "# Rename columns\n",
    "#rename year cols\n",
    "rename_cols = [col.replace('Y', '') for col in prod_data.columns]\n",
    "prod_data = prod_data.toDF(*renamed_cols)\n",
    "\n",
    "#rename other cols\n",
    "prod_data = prod_data\\\n",
    "                .withColumnRenamed(\"Area\", \"Country\")\n"
   ]
  },
  {
   "cell_type": "code",
   "execution_count": 151,
   "id": "6b97b6ca",
   "metadata": {},
   "outputs": [
    {
     "name": "stdout",
     "output_type": "stream",
     "text": [
      "root\n",
      " |-- Country: string (nullable = true)\n",
      " |-- Item: string (nullable = true)\n",
      " |-- Element: string (nullable = true)\n",
      " |-- 1961: double (nullable = true)\n",
      " |-- 1962: double (nullable = true)\n",
      " |-- 1963: double (nullable = true)\n",
      " |-- 1964: double (nullable = true)\n",
      " |-- 1965: double (nullable = true)\n",
      " |-- 1966: double (nullable = true)\n",
      " |-- 1967: double (nullable = true)\n",
      " |-- 1968: double (nullable = true)\n",
      " |-- 1969: double (nullable = true)\n",
      " |-- 1970: double (nullable = true)\n",
      " |-- 1971: double (nullable = true)\n",
      " |-- 1972: double (nullable = true)\n",
      " |-- 1973: double (nullable = true)\n",
      " |-- 1974: double (nullable = true)\n",
      " |-- 1975: double (nullable = true)\n",
      " |-- 1976: double (nullable = true)\n",
      " |-- 1977: double (nullable = true)\n",
      " |-- 1978: double (nullable = true)\n",
      " |-- 1979: double (nullable = true)\n",
      " |-- 1980: double (nullable = true)\n",
      " |-- 1981: double (nullable = true)\n",
      " |-- 1982: double (nullable = true)\n",
      " |-- 1983: double (nullable = true)\n",
      " |-- 1984: double (nullable = true)\n",
      " |-- 1985: double (nullable = true)\n",
      " |-- 1986: double (nullable = true)\n",
      " |-- 1987: double (nullable = true)\n",
      " |-- 1988: double (nullable = true)\n",
      " |-- 1989: double (nullable = true)\n",
      " |-- 1990: double (nullable = true)\n",
      " |-- 1991: double (nullable = true)\n",
      " |-- 1992: double (nullable = true)\n",
      " |-- 1993: double (nullable = true)\n",
      " |-- 1994: double (nullable = true)\n",
      " |-- 1995: double (nullable = true)\n",
      " |-- 1996: double (nullable = true)\n",
      " |-- 1997: double (nullable = true)\n",
      " |-- 1998: double (nullable = true)\n",
      " |-- 1999: double (nullable = true)\n",
      " |-- 2000: double (nullable = true)\n",
      " |-- 2001: double (nullable = true)\n",
      " |-- 2002: double (nullable = true)\n",
      " |-- 2003: double (nullable = true)\n",
      " |-- 2004: double (nullable = true)\n",
      " |-- 2005: double (nullable = true)\n",
      " |-- 2006: double (nullable = true)\n",
      " |-- 2007: double (nullable = true)\n",
      " |-- 2008: double (nullable = true)\n",
      " |-- 2009: double (nullable = true)\n",
      " |-- 2010: double (nullable = true)\n",
      " |-- 2011: double (nullable = true)\n",
      " |-- 2012: double (nullable = true)\n",
      " |-- 2013: double (nullable = true)\n",
      " |-- 2014: double (nullable = true)\n",
      " |-- 2015: double (nullable = true)\n",
      " |-- 2016: double (nullable = true)\n",
      " |-- 2017: double (nullable = true)\n",
      " |-- 2018: double (nullable = true)\n",
      " |-- 2019: double (nullable = true)\n",
      " |-- 2020: double (nullable = true)\n",
      " |-- 2021: double (nullable = true)\n",
      "\n"
     ]
    }
   ],
   "source": [
    "# Trim column names\n",
    "prod_data = prod_data.select([col(name).alias(name.strip()) for name in prod_data.columns])\n",
    "prod_data.printSchema()"
   ]
  },
  {
   "cell_type": "code",
   "execution_count": 161,
   "id": "b0746f33",
   "metadata": {},
   "outputs": [
    {
     "ename": "TypeError",
     "evalue": "Invalid argument, not a string or column: [(Column<'Unit AS year'>, 'Unit'), (Column<'Y1961 AS year'>, 'Y1961'), (Column<'Y1962 AS year'>, 'Y1962'), (Column<'Y1963 AS year'>, 'Y1963'), (Column<'Y1964 AS year'>, 'Y1964'), (Column<'Y1965 AS year'>, 'Y1965'), (Column<'Y1966 AS year'>, 'Y1966'), (Column<'Y1967 AS year'>, 'Y1967'), (Column<'Y1968 AS year'>, 'Y1968'), (Column<'Y1969 AS year'>, 'Y1969'), (Column<'Y1970 AS year'>, 'Y1970'), (Column<'Y1971 AS year'>, 'Y1971'), (Column<'Y1972 AS year'>, 'Y1972'), (Column<'Y1973 AS year'>, 'Y1973'), (Column<'Y1974 AS year'>, 'Y1974'), (Column<'Y1975 AS year'>, 'Y1975'), (Column<'Y1976 AS year'>, 'Y1976'), (Column<'Y1977 AS year'>, 'Y1977'), (Column<'Y1978 AS year'>, 'Y1978'), (Column<'Y1979 AS year'>, 'Y1979'), (Column<'Y1980 AS year'>, 'Y1980'), (Column<'Y1981 AS year'>, 'Y1981'), (Column<'Y1982 AS year'>, 'Y1982'), (Column<'Y1983 AS year'>, 'Y1983'), (Column<'Y1984 AS year'>, 'Y1984'), (Column<'Y1985 AS year'>, 'Y1985'), (Column<'Y1986 AS year'>, 'Y1986'), (Column<'Y1987 AS year'>, 'Y1987'), (Column<'Y1988 AS year'>, 'Y1988'), (Column<'Y1989 AS year'>, 'Y1989'), (Column<'Y1990 AS year'>, 'Y1990'), (Column<'Y1991 AS year'>, 'Y1991'), (Column<'Y1992 AS year'>, 'Y1992'), (Column<'Y1993 AS year'>, 'Y1993'), (Column<'Y1994 AS year'>, 'Y1994'), (Column<'Y1995 AS year'>, 'Y1995'), (Column<'Y1996 AS year'>, 'Y1996'), (Column<'Y1997 AS year'>, 'Y1997'), (Column<'Y1998 AS year'>, 'Y1998'), (Column<'Y1999 AS year'>, 'Y1999'), (Column<'Y2000 AS year'>, 'Y2000'), (Column<'Y2001 AS year'>, 'Y2001'), (Column<'Y2002 AS year'>, 'Y2002'), (Column<'Y2003 AS year'>, 'Y2003'), (Column<'Y2004 AS year'>, 'Y2004'), (Column<'Y2005 AS year'>, 'Y2005'), (Column<'Y2006 AS year'>, 'Y2006'), (Column<'Y2007 AS year'>, 'Y2007'), (Column<'Y2008 AS year'>, 'Y2008'), (Column<'Y2009 AS year'>, 'Y2009'), (Column<'Y2010 AS year'>, 'Y2010'), (Column<'Y2011 AS year'>, 'Y2011'), (Column<'Y2012 AS year'>, 'Y2012'), (Column<'Y2013 AS year'>, 'Y2013'), (Column<'Y2014 AS year'>, 'Y2014'), (Column<'Y2015 AS year'>, 'Y2015'), (Column<'Y2016 AS year'>, 'Y2016'), (Column<'Y2017 AS year'>, 'Y2017'), (Column<'Y2018 AS year'>, 'Y2018'), (Column<'Y2019 AS year'>, 'Y2019'), (Column<'Y2020 AS year'>, 'Y2020'), (Column<'Y2021 AS year'>, 'Y2021')] of type <class 'list'>. For column literals, use 'lit', 'array', 'struct' or 'create_map' function.",
     "output_type": "error",
     "traceback": [
      "\u001b[0;31m---------------------------------------------------------------------------\u001b[0m",
      "\u001b[0;31mTypeError\u001b[0m                                 Traceback (most recent call last)",
      "Cell \u001b[0;32mIn[161], line 7\u001b[0m\n\u001b[1;32m      3\u001b[0m year_columns \u001b[38;5;241m=\u001b[39m [col \u001b[38;5;28;01mfor\u001b[39;00m col \u001b[38;5;129;01min\u001b[39;00m df\u001b[38;5;241m.\u001b[39mcolumns \u001b[38;5;28;01mif\u001b[39;00m col \u001b[38;5;129;01mnot\u001b[39;00m \u001b[38;5;129;01min\u001b[39;00m keep_columns]\n\u001b[1;32m      5\u001b[0m \u001b[38;5;66;03m# Melt the year columns\u001b[39;00m\n\u001b[1;32m      6\u001b[0m prod_data \u001b[38;5;241m=\u001b[39m prod_data\u001b[38;5;241m.\u001b[39mselect(keep_columns \u001b[38;5;241m+\u001b[39m [\n\u001b[0;32m----> 7\u001b[0m     explode(\n\u001b[1;32m      8\u001b[0m         [\n\u001b[1;32m      9\u001b[0m             (lit(col)\u001b[38;5;241m.\u001b[39malias(\u001b[38;5;124m'\u001b[39m\u001b[38;5;124myear\u001b[39m\u001b[38;5;124m'\u001b[39m), col)\n\u001b[1;32m     10\u001b[0m             \u001b[38;5;28;01mfor\u001b[39;00m col \u001b[38;5;129;01min\u001b[39;00m year_columns\n\u001b[1;32m     11\u001b[0m         ]\n\u001b[1;32m     12\u001b[0m     )\u001b[38;5;241m.\u001b[39malias(\u001b[38;5;124m'\u001b[39m\u001b[38;5;124mmelted\u001b[39m\u001b[38;5;124m'\u001b[39m)\n\u001b[1;32m     13\u001b[0m ])\u001b[38;5;241m.\u001b[39mselect(keep_columns \u001b[38;5;241m+\u001b[39m [\n\u001b[1;32m     14\u001b[0m     col(\u001b[38;5;124m'\u001b[39m\u001b[38;5;124mmelted.year\u001b[39m\u001b[38;5;124m'\u001b[39m),\n\u001b[1;32m     15\u001b[0m     col(\u001b[38;5;124m'\u001b[39m\u001b[38;5;124mmelted.weight\u001b[39m\u001b[38;5;124m'\u001b[39m)\n\u001b[1;32m     16\u001b[0m ])\n\u001b[1;32m     18\u001b[0m prod_data\u001b[38;5;241m.\u001b[39mshow()\n",
      "File \u001b[0;32m~/anaconda3/envs/spark/lib/python3.11/site-packages/pyspark/sql/utils.py:159\u001b[0m, in \u001b[0;36mtry_remote_functions.<locals>.wrapped\u001b[0;34m(*args, **kwargs)\u001b[0m\n\u001b[1;32m    157\u001b[0m     \u001b[38;5;28;01mreturn\u001b[39;00m \u001b[38;5;28mgetattr\u001b[39m(functions, f\u001b[38;5;241m.\u001b[39m\u001b[38;5;18m__name__\u001b[39m)(\u001b[38;5;241m*\u001b[39margs, \u001b[38;5;241m*\u001b[39m\u001b[38;5;241m*\u001b[39mkwargs)\n\u001b[1;32m    158\u001b[0m \u001b[38;5;28;01melse\u001b[39;00m:\n\u001b[0;32m--> 159\u001b[0m     \u001b[38;5;28;01mreturn\u001b[39;00m f(\u001b[38;5;241m*\u001b[39margs, \u001b[38;5;241m*\u001b[39m\u001b[38;5;241m*\u001b[39mkwargs)\n",
      "File \u001b[0;32m~/anaconda3/envs/spark/lib/python3.11/site-packages/pyspark/sql/functions.py:7943\u001b[0m, in \u001b[0;36mexplode\u001b[0;34m(col)\u001b[0m\n\u001b[1;32m   7901\u001b[0m \u001b[38;5;129m@try_remote_functions\u001b[39m\n\u001b[1;32m   7902\u001b[0m \u001b[38;5;28;01mdef\u001b[39;00m \u001b[38;5;21mexplode\u001b[39m(col: \u001b[38;5;124m\"\u001b[39m\u001b[38;5;124mColumnOrName\u001b[39m\u001b[38;5;124m\"\u001b[39m) \u001b[38;5;241m-\u001b[39m\u001b[38;5;241m>\u001b[39m Column:\n\u001b[1;32m   7903\u001b[0m     \u001b[38;5;124;03m\"\"\"\u001b[39;00m\n\u001b[1;32m   7904\u001b[0m \u001b[38;5;124;03m    Returns a new row for each element in the given array or map.\u001b[39;00m\n\u001b[1;32m   7905\u001b[0m \u001b[38;5;124;03m    Uses the default column name `col` for elements in the array and\u001b[39;00m\n\u001b[0;32m   (...)\u001b[0m\n\u001b[1;32m   7941\u001b[0m \u001b[38;5;124;03m    +---+-----+\u001b[39;00m\n\u001b[1;32m   7942\u001b[0m \u001b[38;5;124;03m    \"\"\"\u001b[39;00m\n\u001b[0;32m-> 7943\u001b[0m     \u001b[38;5;28;01mreturn\u001b[39;00m _invoke_function_over_columns(\u001b[38;5;124m\"\u001b[39m\u001b[38;5;124mexplode\u001b[39m\u001b[38;5;124m\"\u001b[39m, col)\n",
      "File \u001b[0;32m~/anaconda3/envs/spark/lib/python3.11/site-packages/pyspark/sql/functions.py:103\u001b[0m, in \u001b[0;36m_invoke_function_over_columns\u001b[0;34m(name, *cols)\u001b[0m\n\u001b[1;32m     98\u001b[0m \u001b[38;5;28;01mdef\u001b[39;00m \u001b[38;5;21m_invoke_function_over_columns\u001b[39m(name: \u001b[38;5;28mstr\u001b[39m, \u001b[38;5;241m*\u001b[39mcols: \u001b[38;5;124m\"\u001b[39m\u001b[38;5;124mColumnOrName\u001b[39m\u001b[38;5;124m\"\u001b[39m) \u001b[38;5;241m-\u001b[39m\u001b[38;5;241m>\u001b[39m Column:\n\u001b[1;32m     99\u001b[0m     \u001b[38;5;124;03m\"\"\"\u001b[39;00m\n\u001b[1;32m    100\u001b[0m \u001b[38;5;124;03m    Invokes n-ary JVM function identified by name\u001b[39;00m\n\u001b[1;32m    101\u001b[0m \u001b[38;5;124;03m    and wraps the result with :class:`~pyspark.sql.Column`.\u001b[39;00m\n\u001b[1;32m    102\u001b[0m \u001b[38;5;124;03m    \"\"\"\u001b[39;00m\n\u001b[0;32m--> 103\u001b[0m     \u001b[38;5;28;01mreturn\u001b[39;00m _invoke_function(name, \u001b[38;5;241m*\u001b[39m(_to_java_column(col) \u001b[38;5;28;01mfor\u001b[39;00m col \u001b[38;5;129;01min\u001b[39;00m cols))\n",
      "File \u001b[0;32m~/anaconda3/envs/spark/lib/python3.11/site-packages/pyspark/sql/functions.py:103\u001b[0m, in \u001b[0;36m<genexpr>\u001b[0;34m(.0)\u001b[0m\n\u001b[1;32m     98\u001b[0m \u001b[38;5;28;01mdef\u001b[39;00m \u001b[38;5;21m_invoke_function_over_columns\u001b[39m(name: \u001b[38;5;28mstr\u001b[39m, \u001b[38;5;241m*\u001b[39mcols: \u001b[38;5;124m\"\u001b[39m\u001b[38;5;124mColumnOrName\u001b[39m\u001b[38;5;124m\"\u001b[39m) \u001b[38;5;241m-\u001b[39m\u001b[38;5;241m>\u001b[39m Column:\n\u001b[1;32m     99\u001b[0m     \u001b[38;5;124;03m\"\"\"\u001b[39;00m\n\u001b[1;32m    100\u001b[0m \u001b[38;5;124;03m    Invokes n-ary JVM function identified by name\u001b[39;00m\n\u001b[1;32m    101\u001b[0m \u001b[38;5;124;03m    and wraps the result with :class:`~pyspark.sql.Column`.\u001b[39;00m\n\u001b[1;32m    102\u001b[0m \u001b[38;5;124;03m    \"\"\"\u001b[39;00m\n\u001b[0;32m--> 103\u001b[0m     \u001b[38;5;28;01mreturn\u001b[39;00m _invoke_function(name, \u001b[38;5;241m*\u001b[39m(_to_java_column(col) \u001b[38;5;28;01mfor\u001b[39;00m col \u001b[38;5;129;01min\u001b[39;00m cols))\n",
      "File \u001b[0;32m~/anaconda3/envs/spark/lib/python3.11/site-packages/pyspark/sql/column.py:65\u001b[0m, in \u001b[0;36m_to_java_column\u001b[0;34m(col)\u001b[0m\n\u001b[1;32m     63\u001b[0m     jcol \u001b[38;5;241m=\u001b[39m _create_column_from_name(col)\n\u001b[1;32m     64\u001b[0m \u001b[38;5;28;01melse\u001b[39;00m:\n\u001b[0;32m---> 65\u001b[0m     \u001b[38;5;28;01mraise\u001b[39;00m \u001b[38;5;167;01mTypeError\u001b[39;00m(\n\u001b[1;32m     66\u001b[0m         \u001b[38;5;124m\"\u001b[39m\u001b[38;5;124mInvalid argument, not a string or column: \u001b[39m\u001b[38;5;124m\"\u001b[39m\n\u001b[1;32m     67\u001b[0m         \u001b[38;5;124m\"\u001b[39m\u001b[38;5;132;01m{0}\u001b[39;00m\u001b[38;5;124m of type \u001b[39m\u001b[38;5;132;01m{1}\u001b[39;00m\u001b[38;5;124m. \u001b[39m\u001b[38;5;124m\"\u001b[39m\n\u001b[1;32m     68\u001b[0m         \u001b[38;5;124m\"\u001b[39m\u001b[38;5;124mFor column literals, use \u001b[39m\u001b[38;5;124m'\u001b[39m\u001b[38;5;124mlit\u001b[39m\u001b[38;5;124m'\u001b[39m\u001b[38;5;124m, \u001b[39m\u001b[38;5;124m'\u001b[39m\u001b[38;5;124marray\u001b[39m\u001b[38;5;124m'\u001b[39m\u001b[38;5;124m, \u001b[39m\u001b[38;5;124m'\u001b[39m\u001b[38;5;124mstruct\u001b[39m\u001b[38;5;124m'\u001b[39m\u001b[38;5;124m or \u001b[39m\u001b[38;5;124m'\u001b[39m\u001b[38;5;124mcreate_map\u001b[39m\u001b[38;5;124m'\u001b[39m\u001b[38;5;124m \u001b[39m\u001b[38;5;124m\"\u001b[39m\n\u001b[1;32m     69\u001b[0m         \u001b[38;5;124m\"\u001b[39m\u001b[38;5;124mfunction.\u001b[39m\u001b[38;5;124m\"\u001b[39m\u001b[38;5;241m.\u001b[39mformat(col, \u001b[38;5;28mtype\u001b[39m(col))\n\u001b[1;32m     70\u001b[0m     )\n\u001b[1;32m     71\u001b[0m \u001b[38;5;28;01mreturn\u001b[39;00m jcol\n",
      "\u001b[0;31mTypeError\u001b[0m: Invalid argument, not a string or column: [(Column<'Unit AS year'>, 'Unit'), (Column<'Y1961 AS year'>, 'Y1961'), (Column<'Y1962 AS year'>, 'Y1962'), (Column<'Y1963 AS year'>, 'Y1963'), (Column<'Y1964 AS year'>, 'Y1964'), (Column<'Y1965 AS year'>, 'Y1965'), (Column<'Y1966 AS year'>, 'Y1966'), (Column<'Y1967 AS year'>, 'Y1967'), (Column<'Y1968 AS year'>, 'Y1968'), (Column<'Y1969 AS year'>, 'Y1969'), (Column<'Y1970 AS year'>, 'Y1970'), (Column<'Y1971 AS year'>, 'Y1971'), (Column<'Y1972 AS year'>, 'Y1972'), (Column<'Y1973 AS year'>, 'Y1973'), (Column<'Y1974 AS year'>, 'Y1974'), (Column<'Y1975 AS year'>, 'Y1975'), (Column<'Y1976 AS year'>, 'Y1976'), (Column<'Y1977 AS year'>, 'Y1977'), (Column<'Y1978 AS year'>, 'Y1978'), (Column<'Y1979 AS year'>, 'Y1979'), (Column<'Y1980 AS year'>, 'Y1980'), (Column<'Y1981 AS year'>, 'Y1981'), (Column<'Y1982 AS year'>, 'Y1982'), (Column<'Y1983 AS year'>, 'Y1983'), (Column<'Y1984 AS year'>, 'Y1984'), (Column<'Y1985 AS year'>, 'Y1985'), (Column<'Y1986 AS year'>, 'Y1986'), (Column<'Y1987 AS year'>, 'Y1987'), (Column<'Y1988 AS year'>, 'Y1988'), (Column<'Y1989 AS year'>, 'Y1989'), (Column<'Y1990 AS year'>, 'Y1990'), (Column<'Y1991 AS year'>, 'Y1991'), (Column<'Y1992 AS year'>, 'Y1992'), (Column<'Y1993 AS year'>, 'Y1993'), (Column<'Y1994 AS year'>, 'Y1994'), (Column<'Y1995 AS year'>, 'Y1995'), (Column<'Y1996 AS year'>, 'Y1996'), (Column<'Y1997 AS year'>, 'Y1997'), (Column<'Y1998 AS year'>, 'Y1998'), (Column<'Y1999 AS year'>, 'Y1999'), (Column<'Y2000 AS year'>, 'Y2000'), (Column<'Y2001 AS year'>, 'Y2001'), (Column<'Y2002 AS year'>, 'Y2002'), (Column<'Y2003 AS year'>, 'Y2003'), (Column<'Y2004 AS year'>, 'Y2004'), (Column<'Y2005 AS year'>, 'Y2005'), (Column<'Y2006 AS year'>, 'Y2006'), (Column<'Y2007 AS year'>, 'Y2007'), (Column<'Y2008 AS year'>, 'Y2008'), (Column<'Y2009 AS year'>, 'Y2009'), (Column<'Y2010 AS year'>, 'Y2010'), (Column<'Y2011 AS year'>, 'Y2011'), (Column<'Y2012 AS year'>, 'Y2012'), (Column<'Y2013 AS year'>, 'Y2013'), (Column<'Y2014 AS year'>, 'Y2014'), (Column<'Y2015 AS year'>, 'Y2015'), (Column<'Y2016 AS year'>, 'Y2016'), (Column<'Y2017 AS year'>, 'Y2017'), (Column<'Y2018 AS year'>, 'Y2018'), (Column<'Y2019 AS year'>, 'Y2019'), (Column<'Y2020 AS year'>, 'Y2020'), (Column<'Y2021 AS year'>, 'Y2021')] of type <class 'list'>. For column literals, use 'lit', 'array', 'struct' or 'create_map' function."
     ]
    }
   ],
   "source": [
    "# Assuming you have a DataFrame named 'df' with the year columns and other columns\n",
    "keep_columns = ['Area', 'Item', 'Element']\n",
    "year_columns = [col for col in df.columns if col not in keep_columns]\n",
    "\n",
    "# Melt the year columns\n",
    "prod_data = prod_data.select(keep_columns + [\n",
    "    explode(\n",
    "        [\n",
    "            (lit(col).alias('year'), col)\n",
    "            for col in year_columns\n",
    "        ]\n",
    "    ).alias('melted')\n",
    "]).select(keep_columns + [\n",
    "    col('melted.year'),\n",
    "    col('melted.weight')\n",
    "])\n",
    "\n",
    "prod_data.show()\n"
   ]
  },
  {
   "cell_type": "code",
   "execution_count": null,
   "id": "0600bd28",
   "metadata": {},
   "outputs": [],
   "source": []
  },
  {
   "cell_type": "code",
   "execution_count": null,
   "id": "be2745ee",
   "metadata": {},
   "outputs": [],
   "source": []
  },
  {
   "cell_type": "code",
   "execution_count": null,
   "id": "46f277c2",
   "metadata": {},
   "outputs": [],
   "source": []
  },
  {
   "cell_type": "code",
   "execution_count": null,
   "id": "38d354fd",
   "metadata": {},
   "outputs": [],
   "source": []
  },
  {
   "cell_type": "code",
   "execution_count": null,
   "id": "3aa51110",
   "metadata": {},
   "outputs": [],
   "source": []
  },
  {
   "cell_type": "code",
   "execution_count": null,
   "id": "0c7fedc9",
   "metadata": {},
   "outputs": [],
   "source": []
  },
  {
   "cell_type": "code",
   "execution_count": null,
   "id": "13af194a",
   "metadata": {},
   "outputs": [],
   "source": []
  },
  {
   "cell_type": "code",
   "execution_count": null,
   "id": "f68131ae",
   "metadata": {},
   "outputs": [],
   "source": []
  },
  {
   "cell_type": "code",
   "execution_count": null,
   "id": "79f5aacd",
   "metadata": {},
   "outputs": [],
   "source": []
  },
  {
   "cell_type": "code",
   "execution_count": null,
   "id": "2023151c",
   "metadata": {},
   "outputs": [],
   "source": [
    "# Meditation\n",
    "\n",
    " # .withColumnRenamed(\"year\", trim(col(\"year\")).alias(\"year\"))"
   ]
  }
 ],
 "metadata": {
  "kernelspec": {
   "display_name": "Python 3 (ipykernel)",
   "language": "python",
   "name": "python3"
  },
  "language_info": {
   "codemirror_mode": {
    "name": "ipython",
    "version": 3
   },
   "file_extension": ".py",
   "mimetype": "text/x-python",
   "name": "python",
   "nbconvert_exporter": "python",
   "pygments_lexer": "ipython3",
   "version": "3.11.3"
  }
 },
 "nbformat": 4,
 "nbformat_minor": 5
}
